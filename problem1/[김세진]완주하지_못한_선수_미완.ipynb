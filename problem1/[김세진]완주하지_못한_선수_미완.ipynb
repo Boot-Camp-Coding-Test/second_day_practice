{
  "nbformat": 4,
  "nbformat_minor": 0,
  "metadata": {
    "colab": {
      "name": "[김세진]완주하지 못한 선수 - 미완.ipynb",
      "provenance": []
    },
    "kernelspec": {
      "name": "python3",
      "display_name": "Python 3"
    },
    "language_info": {
      "name": "python"
    }
  },
  "cells": [
    {
      "cell_type": "markdown",
      "metadata": {
        "id": "5RAL7p5-XwBH"
      },
      "source": [
        "#### 완주하지 못한 선수\n",
        "    # 수많은 마라톤 선수들이 마라톤에 참여하였습니다. 단 한 명의 선수를 제외하고는 모든 선수가 마라톤을 완주하였습니다.\n",
        "\n",
        "    마라톤에 참여한 선수들의 이름이 담긴 배열 participant와 완주한 선수들의 이름이 담긴 배열 completion이 주어질 때, 완주하지 못한 선수의 이름을 return 하도록 solution 함수를 작성해주세요."
      ]
    },
    {
      "cell_type": "code",
      "metadata": {
        "id": "WDmRwvImWtzu"
      },
      "source": [
        "def solution(participant, completion):\n",
        "  answer = []\n",
        "  answer = [x for x in participant if x not in completion]\n",
        "  answer = ''.join(answer)\n",
        "  return answer"
      ],
      "execution_count": 12,
      "outputs": []
    },
    {
      "cell_type": "code",
      "metadata": {
        "colab": {
          "base_uri": "https://localhost:8080/",
          "height": 35
        },
        "id": "aIPBjarYW8dV",
        "outputId": "4550379e-6554-45ab-f2c4-9b19d7fee054"
      },
      "source": [
        "solution([\"leo\", \"kiki\", \"eden\"],[\"eden\", \"kiki\"])"
      ],
      "execution_count": 13,
      "outputs": [
        {
          "output_type": "execute_result",
          "data": {
            "application/vnd.google.colaboratory.intrinsic+json": {
              "type": "string"
            },
            "text/plain": [
              "'leo'"
            ]
          },
          "metadata": {
            "tags": []
          },
          "execution_count": 13
        }
      ]
    },
    {
      "cell_type": "markdown",
      "metadata": {
        "id": "aLfZzIoIX2Bi"
      },
      "source": [
        "- 테스트케이스 5개 중 3개 성공, 아마도 중복값 처리를 못해서 인 것 같은데, 당장 생각은 안난다 ㅠㅠ 다음에 다시 해결할 것! 효율성 테스트도 통과하지 못했다ㅠㅠ"
      ]
    }
  ]
}